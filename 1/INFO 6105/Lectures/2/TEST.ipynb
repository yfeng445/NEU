{
 "cells": [
  {
   "cell_type": "code",
   "execution_count": 1,
   "metadata": {},
   "outputs": [
    {
     "name": "stderr",
     "output_type": "stream",
     "text": [
      "[*********************100%***********************]  1 of 1 completed"
     ]
    },
    {
     "name": "stdout",
     "output_type": "stream",
     "text": [
      "95% Confidence Interval of mu_boot: [29.97627557 33.54781146]\n",
      "95% Confidence Interval of std_boot: [0.88756574 0.88756574]\n",
      "95% Confidence Interval of NVDA Stock Price Std (Method 1): [np.float64(28.501961187877466), np.float64(30.905607640825753)]\n",
      "95% Confidence Interval of NVDA Stock Price Std (Method 2): [27.73135336 31.49794855]\n"
     ]
    },
    {
     "name": "stderr",
     "output_type": "stream",
     "text": [
      "\n"
     ]
    }
   ],
   "source": [
    "import numpy as np\n",
    "import scipy.stats as ss\n",
    "\n",
    "# Number of bootstrap samples\n",
    "B = 1000\n",
    "\n",
    "# Assuming 'stocks' DataFrame contains the NVDA stock prices\n",
    "X = stocks['NVDA'].dropna().values\n",
    "\n",
    "# Arrays to store bootstrap estimates\n",
    "bootstrap_means = np.zeros(B)\n",
    "bootstrap_stds = np.zeros(B)\n",
    "\n",
    "# Perform bootstrap sampling\n",
    "for i in range(B):\n",
    "    # Sample with replacement from the original data\n",
    "    boot_sample = np.random.choice(X, size=len(X), replace=True)\n",
    "    \n",
    "    # Calculate statistics for the bootstrap sample\n",
    "    bootstrap_means[i] = np.mean(boot_sample)\n",
    "    bootstrap_stds[i] = np.std(boot_sample, ddof=1)  # ddof=1 for unbiased estimator (sample std)\n",
    "\n",
    "# Compute 95% confidence intervals\n",
    "ci_mean = np.percentile(bootstrap_means, [2.5, 97.5])\n",
    "ci_std = np.percentile(bootstrap_stds, [2.5, 97.5])\n",
    "\n",
    "# Print the confidence intervals\n",
    "print(f\"95% Confidence Interval of mu_boot: {ci_mean}\")\n",
    "print(f\"95% Confidence Interval of std_boot: {ci_std}\")\n",
    "\n",
    "# Method 1 for Standard Deviation (assuming normal distribution):\n",
    "mean_std = np.mean(bootstrap_stds)\n",
    "std_std = np.std(bootstrap_stds)\n",
    "ci_std_method1 = [mean_std - 1.96 * std_std, mean_std + 1.96 * std_std]\n",
    "print(f\"95% Confidence Interval of NVDA Stock Price Std (Method 1): {ci_std_method1}\")\n",
    "\n",
    "# Method 2 for Standard Deviation (Percentile Method):\n",
    "ci_std_method2 = np.percentile(bootstrap_stds, [2.5, 97.5])\n",
    "print(f\"95% Confidence Interval of NVDA Stock Price Std (Method 2): {ci_std_method2}\")\n"
   ]
  }
 ],
 "metadata": {
  "kernelspec": {
   "display_name": "Python 3",
   "language": "python",
   "name": "python3"
  },
  "language_info": {
   "codemirror_mode": {
    "name": "ipython",
    "version": 3
   },
   "file_extension": ".py",
   "mimetype": "text/x-python",
   "name": "python",
   "nbconvert_exporter": "python",
   "pygments_lexer": "ipython3",
   "version": "3.12.6"
  }
 },
 "nbformat": 4,
 "nbformat_minor": 2
}
