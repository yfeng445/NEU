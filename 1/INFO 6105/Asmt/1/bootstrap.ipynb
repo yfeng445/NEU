{
 "cells": [
  {
   "cell_type": "code",
   "execution_count": 6,
   "metadata": {},
   "outputs": [],
   "source": [
    "# Global toolbox\n",
    "import numpy as np\n",
    "from scipy.optimize import minimize\n",
    "import matplotlib.pyplot as plt\n",
    "import pandas as pd\n",
    "import seaborn as sns\n",
    "from pandas_datareader import DataReader\n",
    "from datetime import datetime\n",
    "import scipy.stats as ss\n",
    "import yfinance as yf\n",
    "\n"
   ]
  },
  {
   "cell_type": "code",
   "execution_count": 8,
   "metadata": {},
   "outputs": [
    {
     "name": "stderr",
     "output_type": "stream",
     "text": [
      "[*********************100%***********************]  1 of 1 completed\n"
     ]
    }
   ],
   "source": [
    "# Data initialization\n",
    "start_date = datetime(2020, 1, 1)\n",
    "end_date = datetime(2024, 8, 31)\n",
    "stock_symbol = 'NVDA'\n",
    "stocks= yf.download(stock_symbol, start_date, end_date)"
   ]
  },
  {
   "cell_type": "code",
   "execution_count": 5,
   "metadata": {},
   "outputs": [
    {
     "name": "stdout",
     "output_type": "stream",
     "text": [
      "sample mean: $31.725553992659716\n",
      "sample standard deviation: $29.64219549687437\n"
     ]
    },
    {
     "ename": "NameError",
     "evalue": "name 'ss' is not defined",
     "output_type": "error",
     "traceback": [
      "\u001b[1;31m---------------------------------------------------------------------------\u001b[0m",
      "\u001b[1;31mNameError\u001b[0m                                 Traceback (most recent call last)",
      "Cell \u001b[1;32mIn[5], line 5\u001b[0m\n\u001b[0;32m      3\u001b[0m \u001b[38;5;28mprint\u001b[39m(\u001b[38;5;124mf\u001b[39m\u001b[38;5;124m\"\u001b[39m\u001b[38;5;124msample mean: $\u001b[39m\u001b[38;5;132;01m{\u001b[39;00mnp\u001b[38;5;241m.\u001b[39mmean(X)\u001b[38;5;132;01m}\u001b[39;00m\u001b[38;5;124m\"\u001b[39m)\n\u001b[0;32m      4\u001b[0m \u001b[38;5;28mprint\u001b[39m(\u001b[38;5;124mf\u001b[39m\u001b[38;5;124m\"\u001b[39m\u001b[38;5;124msample standard deviation: $\u001b[39m\u001b[38;5;132;01m{\u001b[39;00mnp\u001b[38;5;241m.\u001b[39mstd(X)\u001b[38;5;132;01m}\u001b[39;00m\u001b[38;5;124m\"\u001b[39m)\n\u001b[1;32m----> 5\u001b[0m \u001b[38;5;28mprint\u001b[39m(\u001b[38;5;124m\"\u001b[39m\u001b[38;5;124msample skewness: \u001b[39m\u001b[38;5;124m\"\u001b[39m,\u001b[43mss\u001b[49m\u001b[38;5;241m.\u001b[39mskew(X, axis\u001b[38;5;241m=\u001b[39m\u001b[38;5;241m0\u001b[39m, bias\u001b[38;5;241m=\u001b[39m\u001b[38;5;28;01mTrue\u001b[39;00m))\n\u001b[0;32m      6\u001b[0m \u001b[38;5;28mprint\u001b[39m(\u001b[38;5;124m\"\u001b[39m\u001b[38;5;124msample kurtosis: \u001b[39m\u001b[38;5;124m\"\u001b[39m,ss\u001b[38;5;241m.\u001b[39mkurtosis(X, axis\u001b[38;5;241m=\u001b[39m\u001b[38;5;241m0\u001b[39m, bias\u001b[38;5;241m=\u001b[39m\u001b[38;5;28;01mTrue\u001b[39;00m)\u001b[38;5;241m+\u001b[39m\u001b[38;5;241m3\u001b[39m)\n\u001b[0;32m      7\u001b[0m \u001b[38;5;66;03m# Empirical Distribution\u001b[39;00m\n",
      "\u001b[1;31mNameError\u001b[0m: name 'ss' is not defined"
     ]
    }
   ],
   "source": [
    "stocks['Adj Close'].describe() # summary statistics\n",
    "X = stocks['Adj Close'].values\n",
    "print(f\"sample mean: ${np.mean(X)}\")\n",
    "print(f\"sample standard deviation: ${np.std(X)}\")\n",
    "print(\"sample skewness: \",ss.skew(X, axis=0, bias=True))\n",
    "print(\"sample kurtosis: \",ss.kurtosis(X, axis=0, bias=True)+3)\n",
    "# Empirical Distribution\n",
    "sns.kdeplot(data=X,linewidth=4)"
   ]
  }
 ],
 "metadata": {
  "kernelspec": {
   "display_name": "Python 3",
   "language": "python",
   "name": "python3"
  },
  "language_info": {
   "codemirror_mode": {
    "name": "ipython",
    "version": 3
   },
   "file_extension": ".py",
   "mimetype": "text/x-python",
   "name": "python",
   "nbconvert_exporter": "python",
   "pygments_lexer": "ipython3",
   "version": "3.8.10"
  }
 },
 "nbformat": 4,
 "nbformat_minor": 2
}
